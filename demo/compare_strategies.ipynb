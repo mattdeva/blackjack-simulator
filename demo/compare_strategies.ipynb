{
 "cells": [
  {
   "cell_type": "markdown",
   "id": "2a57ec06",
   "metadata": {},
   "source": [
    "## Compare results of simultations that are run with different Strategy Charts\n",
    "\n",
    "`compare_simulations` is a function that takes Simulators as inputs, and outputs a DataFrame showing the overall results of each simulation as well as the results where the strategy charts differed.\n",
    "\n",
    "NOTE: This function is not for simulations with different game settings. While the comparison will still run, the function is designed to highlight the differing Actions accross strategies."
   ]
  },
  {
   "cell_type": "code",
   "execution_count": 1,
   "id": "6dea97d1",
   "metadata": {},
   "outputs": [],
   "source": [
    "from blackjack_simulator.components.chart import Chart\n",
    "from blackjack_simulator.simulation.simulator import Simulator\n",
    "\n",
    "from blackjack_simulator.experiments.compare_simulations_helpers import compare_simulations, get_different_actions_lookups\n",
    "\n",
    "import os\n",
    "os.chdir(os.path.split(os.getcwd())[0])"
   ]
  },
  {
   "cell_type": "markdown",
   "id": "61d8129f",
   "metadata": {},
   "source": [
    "First load and visualize the differences in strategies. There are 4 scenarios that will differ in each chart; one will surrender, the second will hit, and the third with stand. All other scenarios have the same actions."
   ]
  },
  {
   "cell_type": "code",
   "execution_count": 2,
   "id": "532de438",
   "metadata": {},
   "outputs": [],
   "source": [
    "chart1 = Chart.from_excel('data/strategy_charts.xlsx', sheet_name='Chart1')\n",
    "chart2 = Chart.from_excel('data/strategy_charts.xlsx', sheet_name='Chart2')\n",
    "chart3 = Chart.from_excel('data/strategy_charts.xlsx', sheet_name='Chart3')"
   ]
  },
  {
   "cell_type": "code",
   "execution_count": 3,
   "id": "283e7853",
   "metadata": {},
   "outputs": [
    {
     "data": {
      "text/html": [
       "<div>\n",
       "<style scoped>\n",
       "    .dataframe tbody tr th:only-of-type {\n",
       "        vertical-align: middle;\n",
       "    }\n",
       "\n",
       "    .dataframe tbody tr th {\n",
       "        vertical-align: top;\n",
       "    }\n",
       "\n",
       "    .dataframe thead th {\n",
       "        text-align: right;\n",
       "    }\n",
       "</style>\n",
       "<table border=\"1\" class=\"dataframe\">\n",
       "  <thead>\n",
       "    <tr style=\"text-align: right;\">\n",
       "      <th></th>\n",
       "      <th>8</th>\n",
       "      <th>9</th>\n",
       "      <th>10</th>\n",
       "      <th>A</th>\n",
       "    </tr>\n",
       "  </thead>\n",
       "  <tbody>\n",
       "    <tr>\n",
       "      <th>14</th>\n",
       "      <td>Action.HIT</td>\n",
       "      <td>Action.HIT</td>\n",
       "      <td>Action.HIT</td>\n",
       "      <td>Action.HIT</td>\n",
       "    </tr>\n",
       "    <tr>\n",
       "      <th>15</th>\n",
       "      <td>Action.HIT</td>\n",
       "      <td>Action.HIT</td>\n",
       "      <td>Action.SURRENDER</td>\n",
       "      <td>Action.HIT</td>\n",
       "    </tr>\n",
       "    <tr>\n",
       "      <th>16</th>\n",
       "      <td>Action.HIT</td>\n",
       "      <td>Action.SURRENDER</td>\n",
       "      <td>Action.SURRENDER</td>\n",
       "      <td>Action.SURRENDER</td>\n",
       "    </tr>\n",
       "    <tr>\n",
       "      <th>17</th>\n",
       "      <td>Action.STAND</td>\n",
       "      <td>Action.STAND</td>\n",
       "      <td>Action.STAND</td>\n",
       "      <td>Action.STAND</td>\n",
       "    </tr>\n",
       "  </tbody>\n",
       "</table>\n",
       "</div>"
      ],
      "text/plain": [
       "               8                 9                10                 A\n",
       "14    Action.HIT        Action.HIT        Action.HIT        Action.HIT\n",
       "15    Action.HIT        Action.HIT  Action.SURRENDER        Action.HIT\n",
       "16    Action.HIT  Action.SURRENDER  Action.SURRENDER  Action.SURRENDER\n",
       "17  Action.STAND      Action.STAND      Action.STAND      Action.STAND"
      ]
     },
     "metadata": {},
     "output_type": "display_data"
    },
    {
     "data": {
      "text/html": [
       "<div>\n",
       "<style scoped>\n",
       "    .dataframe tbody tr th:only-of-type {\n",
       "        vertical-align: middle;\n",
       "    }\n",
       "\n",
       "    .dataframe tbody tr th {\n",
       "        vertical-align: top;\n",
       "    }\n",
       "\n",
       "    .dataframe thead th {\n",
       "        text-align: right;\n",
       "    }\n",
       "</style>\n",
       "<table border=\"1\" class=\"dataframe\">\n",
       "  <thead>\n",
       "    <tr style=\"text-align: right;\">\n",
       "      <th></th>\n",
       "      <th>8</th>\n",
       "      <th>9</th>\n",
       "      <th>10</th>\n",
       "      <th>A</th>\n",
       "    </tr>\n",
       "  </thead>\n",
       "  <tbody>\n",
       "    <tr>\n",
       "      <th>14</th>\n",
       "      <td>Action.HIT</td>\n",
       "      <td>Action.HIT</td>\n",
       "      <td>Action.HIT</td>\n",
       "      <td>Action.HIT</td>\n",
       "    </tr>\n",
       "    <tr>\n",
       "      <th>15</th>\n",
       "      <td>Action.HIT</td>\n",
       "      <td>Action.HIT</td>\n",
       "      <td>Action.HIT</td>\n",
       "      <td>Action.HIT</td>\n",
       "    </tr>\n",
       "    <tr>\n",
       "      <th>16</th>\n",
       "      <td>Action.HIT</td>\n",
       "      <td>Action.HIT</td>\n",
       "      <td>Action.HIT</td>\n",
       "      <td>Action.HIT</td>\n",
       "    </tr>\n",
       "    <tr>\n",
       "      <th>17</th>\n",
       "      <td>Action.STAND</td>\n",
       "      <td>Action.STAND</td>\n",
       "      <td>Action.STAND</td>\n",
       "      <td>Action.STAND</td>\n",
       "    </tr>\n",
       "  </tbody>\n",
       "</table>\n",
       "</div>"
      ],
      "text/plain": [
       "               8             9            10             A\n",
       "14    Action.HIT    Action.HIT    Action.HIT    Action.HIT\n",
       "15    Action.HIT    Action.HIT    Action.HIT    Action.HIT\n",
       "16    Action.HIT    Action.HIT    Action.HIT    Action.HIT\n",
       "17  Action.STAND  Action.STAND  Action.STAND  Action.STAND"
      ]
     },
     "metadata": {},
     "output_type": "display_data"
    },
    {
     "data": {
      "text/html": [
       "<div>\n",
       "<style scoped>\n",
       "    .dataframe tbody tr th:only-of-type {\n",
       "        vertical-align: middle;\n",
       "    }\n",
       "\n",
       "    .dataframe tbody tr th {\n",
       "        vertical-align: top;\n",
       "    }\n",
       "\n",
       "    .dataframe thead th {\n",
       "        text-align: right;\n",
       "    }\n",
       "</style>\n",
       "<table border=\"1\" class=\"dataframe\">\n",
       "  <thead>\n",
       "    <tr style=\"text-align: right;\">\n",
       "      <th></th>\n",
       "      <th>8</th>\n",
       "      <th>9</th>\n",
       "      <th>10</th>\n",
       "      <th>A</th>\n",
       "    </tr>\n",
       "  </thead>\n",
       "  <tbody>\n",
       "    <tr>\n",
       "      <th>14</th>\n",
       "      <td>Action.HIT</td>\n",
       "      <td>Action.HIT</td>\n",
       "      <td>Action.HIT</td>\n",
       "      <td>Action.HIT</td>\n",
       "    </tr>\n",
       "    <tr>\n",
       "      <th>15</th>\n",
       "      <td>Action.HIT</td>\n",
       "      <td>Action.HIT</td>\n",
       "      <td>Action.STAND</td>\n",
       "      <td>Action.HIT</td>\n",
       "    </tr>\n",
       "    <tr>\n",
       "      <th>16</th>\n",
       "      <td>Action.HIT</td>\n",
       "      <td>Action.STAND</td>\n",
       "      <td>Action.STAND</td>\n",
       "      <td>Action.STAND</td>\n",
       "    </tr>\n",
       "    <tr>\n",
       "      <th>17</th>\n",
       "      <td>Action.STAND</td>\n",
       "      <td>Action.STAND</td>\n",
       "      <td>Action.STAND</td>\n",
       "      <td>Action.STAND</td>\n",
       "    </tr>\n",
       "  </tbody>\n",
       "</table>\n",
       "</div>"
      ],
      "text/plain": [
       "               8             9            10             A\n",
       "14    Action.HIT    Action.HIT    Action.HIT    Action.HIT\n",
       "15    Action.HIT    Action.HIT  Action.STAND    Action.HIT\n",
       "16    Action.HIT  Action.STAND  Action.STAND  Action.STAND\n",
       "17  Action.STAND  Action.STAND  Action.STAND  Action.STAND"
      ]
     },
     "metadata": {},
     "output_type": "display_data"
    }
   ],
   "source": [
    "for chart in [chart1, chart2, chart3]:\n",
    "    display(chart.df.loc[14:17, 8:])"
   ]
  },
  {
   "cell_type": "code",
   "execution_count": 4,
   "id": "4c05ea65",
   "metadata": {},
   "outputs": [],
   "source": [
    "sim1 = Simulator(chart1, name='With Surrender')\n",
    "sim2 = Simulator(chart2, name='With Hit')\n",
    "sim3 = Simulator(chart2, name='With Stand')\n",
    "\n",
    "n_iterations = 4000\n",
    "sim1.run(n_iterations)\n",
    "sim2.run(n_iterations)\n",
    "sim3.run(n_iterations)"
   ]
  },
  {
   "cell_type": "markdown",
   "id": "6f4e967a",
   "metadata": {},
   "source": [
    "It is not neccesary to do so, but you can use the `get_different_actions_lookups` function to find where the strategy charts differ\n",
    "\n",
    "The first item in each tuple refers to the player hand. The second item represents the dealer upcard value."
   ]
  },
  {
   "cell_type": "code",
   "execution_count": 5,
   "id": "a7df1edc",
   "metadata": {},
   "outputs": [
    {
     "data": {
      "text/plain": [
       "[(15, 10), (16, 9), (16, 10), (16, 'A')]"
      ]
     },
     "execution_count": 5,
     "metadata": {},
     "output_type": "execute_result"
    }
   ],
   "source": [
    "get_different_actions_lookups([sim1, sim2, sim3])"
   ]
  },
  {
   "cell_type": "markdown",
   "id": "eef3acb5",
   "metadata": {},
   "source": [
    "The only function that needs to be run (outside of instantiating and running the Simulators) is `compare_simulations`"
   ]
  },
  {
   "cell_type": "code",
   "execution_count": 6,
   "id": "bf23d066",
   "metadata": {},
   "outputs": [
    {
     "data": {
      "text/html": [
       "<div>\n",
       "<style scoped>\n",
       "    .dataframe tbody tr th:only-of-type {\n",
       "        vertical-align: middle;\n",
       "    }\n",
       "\n",
       "    .dataframe tbody tr th {\n",
       "        vertical-align: top;\n",
       "    }\n",
       "\n",
       "    .dataframe thead th {\n",
       "        text-align: right;\n",
       "    }\n",
       "</style>\n",
       "<table border=\"1\" class=\"dataframe\">\n",
       "  <thead>\n",
       "    <tr style=\"text-align: right;\">\n",
       "      <th></th>\n",
       "      <th>With Surrender</th>\n",
       "      <th>With Hit</th>\n",
       "      <th>With Stand</th>\n",
       "    </tr>\n",
       "  </thead>\n",
       "  <tbody>\n",
       "    <tr>\n",
       "      <th>Summary_Overall</th>\n",
       "      <td>Buyin:6364, Payout:6609.5, Net:245.5</td>\n",
       "      <td>Buyin:6510, Payout:6452.0, Net:-58.0</td>\n",
       "      <td>Buyin:6423, Payout:6246.0, Net:-177.0</td>\n",
       "    </tr>\n",
       "    <tr>\n",
       "      <th>Summary_DiffActions</th>\n",
       "      <td>Buyin:362, Payout:165.0, Net:-197.0</td>\n",
       "      <td>Buyin:367, Payout:165, Net:-202</td>\n",
       "      <td>Buyin:376, Payout:162, Net:-214</td>\n",
       "    </tr>\n",
       "    <tr>\n",
       "      <th>Player: 15 | Dealer Upcard: 10</th>\n",
       "      <td>Buyin:160, Payout:72.0, Net:-88.0</td>\n",
       "      <td>Buyin:154, Payout:82, Net:-72</td>\n",
       "      <td>Buyin:147, Payout:64, Net:-83</td>\n",
       "    </tr>\n",
       "    <tr>\n",
       "      <th>Player: 16 | Dealer Upcard: 9</th>\n",
       "      <td>Buyin:31, Payout:16.5, Net:-14.5</td>\n",
       "      <td>Buyin:32, Payout:17, Net:-15</td>\n",
       "      <td>Buyin:36, Payout:21, Net:-15</td>\n",
       "    </tr>\n",
       "    <tr>\n",
       "      <th>Player: 16 | Dealer Upcard: 10</th>\n",
       "      <td>Buyin:136, Payout:63.0, Net:-73.0</td>\n",
       "      <td>Buyin:141, Payout:55, Net:-86</td>\n",
       "      <td>Buyin:163, Payout:64, Net:-99</td>\n",
       "    </tr>\n",
       "    <tr>\n",
       "      <th>Player: 16 | Dealer Upcard: A</th>\n",
       "      <td>Buyin:35, Payout:13.5, Net:-21.5</td>\n",
       "      <td>Buyin:40, Payout:11, Net:-29</td>\n",
       "      <td>Buyin:30, Payout:13, Net:-17</td>\n",
       "    </tr>\n",
       "  </tbody>\n",
       "</table>\n",
       "</div>"
      ],
      "text/plain": [
       "                                                      With Surrender  \\\n",
       "Summary_Overall                 Buyin:6364, Payout:6609.5, Net:245.5   \n",
       "Summary_DiffActions              Buyin:362, Payout:165.0, Net:-197.0   \n",
       "Player: 15 | Dealer Upcard: 10     Buyin:160, Payout:72.0, Net:-88.0   \n",
       "Player: 16 | Dealer Upcard: 9       Buyin:31, Payout:16.5, Net:-14.5   \n",
       "Player: 16 | Dealer Upcard: 10     Buyin:136, Payout:63.0, Net:-73.0   \n",
       "Player: 16 | Dealer Upcard: A       Buyin:35, Payout:13.5, Net:-21.5   \n",
       "\n",
       "                                                            With Hit  \\\n",
       "Summary_Overall                 Buyin:6510, Payout:6452.0, Net:-58.0   \n",
       "Summary_DiffActions                  Buyin:367, Payout:165, Net:-202   \n",
       "Player: 15 | Dealer Upcard: 10         Buyin:154, Payout:82, Net:-72   \n",
       "Player: 16 | Dealer Upcard: 9           Buyin:32, Payout:17, Net:-15   \n",
       "Player: 16 | Dealer Upcard: 10         Buyin:141, Payout:55, Net:-86   \n",
       "Player: 16 | Dealer Upcard: A           Buyin:40, Payout:11, Net:-29   \n",
       "\n",
       "                                                           With Stand  \n",
       "Summary_Overall                 Buyin:6423, Payout:6246.0, Net:-177.0  \n",
       "Summary_DiffActions                   Buyin:376, Payout:162, Net:-214  \n",
       "Player: 15 | Dealer Upcard: 10          Buyin:147, Payout:64, Net:-83  \n",
       "Player: 16 | Dealer Upcard: 9            Buyin:36, Payout:21, Net:-15  \n",
       "Player: 16 | Dealer Upcard: 10          Buyin:163, Payout:64, Net:-99  \n",
       "Player: 16 | Dealer Upcard: A            Buyin:30, Payout:13, Net:-17  "
      ]
     },
     "execution_count": 6,
     "metadata": {},
     "output_type": "execute_result"
    }
   ],
   "source": [
    "compare_simulations([sim1, sim2, sim3], 'profit')"
   ]
  },
  {
   "cell_type": "markdown",
   "id": "7e690cd5",
   "metadata": {},
   "source": [
    "The second argument is the `typ` of results summary. Your options are `['profit', 'win', 'ev', 'all']`"
   ]
  },
  {
   "cell_type": "code",
   "execution_count": 7,
   "id": "6332fb80",
   "metadata": {},
   "outputs": [
    {
     "data": {
      "text/html": [
       "<div>\n",
       "<style scoped>\n",
       "    .dataframe tbody tr th:only-of-type {\n",
       "        vertical-align: middle;\n",
       "    }\n",
       "\n",
       "    .dataframe tbody tr th {\n",
       "        vertical-align: top;\n",
       "    }\n",
       "\n",
       "    .dataframe thead th {\n",
       "        text-align: right;\n",
       "    }\n",
       "</style>\n",
       "<table border=\"1\" class=\"dataframe\">\n",
       "  <thead>\n",
       "    <tr style=\"text-align: right;\">\n",
       "      <th></th>\n",
       "      <th>With Surrender</th>\n",
       "      <th>With Hit</th>\n",
       "      <th>With Stand</th>\n",
       "    </tr>\n",
       "  </thead>\n",
       "  <tbody>\n",
       "    <tr>\n",
       "      <th>Summary_Overall</th>\n",
       "      <td>Net_Units:245.5, Obs:5848.0, EV:0.042</td>\n",
       "      <td>Net_Units:-58.0, Obs:6001.0, EV:-0.0097</td>\n",
       "      <td>Net_Units:-177.0, Obs:5971.0, EV:-0.0296</td>\n",
       "    </tr>\n",
       "    <tr>\n",
       "      <th>Summary_DiffActions</th>\n",
       "      <td>Net_Units:-197.0, Obs:362.0, EV:-0.5442</td>\n",
       "      <td>Net_Units:-202.0, Obs:367.0, EV:-0.5504</td>\n",
       "      <td>Net_Units:-214.0, Obs:376.0, EV:-0.5691</td>\n",
       "    </tr>\n",
       "    <tr>\n",
       "      <th>Player: 15 | Dealer Upcard: 10</th>\n",
       "      <td>Net_Units:-88.0, Obs:160.0, EV:-0.55</td>\n",
       "      <td>Net_Units:-72.0, Obs:154.0, EV:-0.4675</td>\n",
       "      <td>Net_Units:-83.0, Obs:147.0, EV:-0.5646</td>\n",
       "    </tr>\n",
       "    <tr>\n",
       "      <th>Player: 16 | Dealer Upcard: 9</th>\n",
       "      <td>Net_Units:-14.5, Obs:31.0, EV:-0.4677</td>\n",
       "      <td>Net_Units:-15.0, Obs:32.0, EV:-0.4688</td>\n",
       "      <td>Net_Units:-15.0, Obs:36.0, EV:-0.4167</td>\n",
       "    </tr>\n",
       "    <tr>\n",
       "      <th>Player: 16 | Dealer Upcard: 10</th>\n",
       "      <td>Net_Units:-73.0, Obs:136.0, EV:-0.5368</td>\n",
       "      <td>Net_Units:-86.0, Obs:141.0, EV:-0.6099</td>\n",
       "      <td>Net_Units:-99.0, Obs:163.0, EV:-0.6074</td>\n",
       "    </tr>\n",
       "    <tr>\n",
       "      <th>Player: 16 | Dealer Upcard: A</th>\n",
       "      <td>Net_Units:-21.5, Obs:35.0, EV:-0.6143</td>\n",
       "      <td>Net_Units:-29.0, Obs:40.0, EV:-0.725</td>\n",
       "      <td>Net_Units:-17.0, Obs:30.0, EV:-0.5667</td>\n",
       "    </tr>\n",
       "  </tbody>\n",
       "</table>\n",
       "</div>"
      ],
      "text/plain": [
       "                                                         With Surrender  \\\n",
       "Summary_Overall                   Net_Units:245.5, Obs:5848.0, EV:0.042   \n",
       "Summary_DiffActions             Net_Units:-197.0, Obs:362.0, EV:-0.5442   \n",
       "Player: 15 | Dealer Upcard: 10     Net_Units:-88.0, Obs:160.0, EV:-0.55   \n",
       "Player: 16 | Dealer Upcard: 9     Net_Units:-14.5, Obs:31.0, EV:-0.4677   \n",
       "Player: 16 | Dealer Upcard: 10   Net_Units:-73.0, Obs:136.0, EV:-0.5368   \n",
       "Player: 16 | Dealer Upcard: A     Net_Units:-21.5, Obs:35.0, EV:-0.6143   \n",
       "\n",
       "                                                               With Hit  \\\n",
       "Summary_Overall                 Net_Units:-58.0, Obs:6001.0, EV:-0.0097   \n",
       "Summary_DiffActions             Net_Units:-202.0, Obs:367.0, EV:-0.5504   \n",
       "Player: 15 | Dealer Upcard: 10   Net_Units:-72.0, Obs:154.0, EV:-0.4675   \n",
       "Player: 16 | Dealer Upcard: 9     Net_Units:-15.0, Obs:32.0, EV:-0.4688   \n",
       "Player: 16 | Dealer Upcard: 10   Net_Units:-86.0, Obs:141.0, EV:-0.6099   \n",
       "Player: 16 | Dealer Upcard: A      Net_Units:-29.0, Obs:40.0, EV:-0.725   \n",
       "\n",
       "                                                              With Stand  \n",
       "Summary_Overall                 Net_Units:-177.0, Obs:5971.0, EV:-0.0296  \n",
       "Summary_DiffActions              Net_Units:-214.0, Obs:376.0, EV:-0.5691  \n",
       "Player: 15 | Dealer Upcard: 10    Net_Units:-83.0, Obs:147.0, EV:-0.5646  \n",
       "Player: 16 | Dealer Upcard: 9      Net_Units:-15.0, Obs:36.0, EV:-0.4167  \n",
       "Player: 16 | Dealer Upcard: 10    Net_Units:-99.0, Obs:163.0, EV:-0.6074  \n",
       "Player: 16 | Dealer Upcard: A      Net_Units:-17.0, Obs:30.0, EV:-0.5667  "
      ]
     },
     "execution_count": 7,
     "metadata": {},
     "output_type": "execute_result"
    }
   ],
   "source": [
    "compare_simulations([sim1, sim2, sim3], 'ev')"
   ]
  }
 ],
 "metadata": {
  "kernelspec": {
   "display_name": "blackjack-simulator-zX4ARs4i-py3.13",
   "language": "python",
   "name": "python3"
  },
  "language_info": {
   "codemirror_mode": {
    "name": "ipython",
    "version": 3
   },
   "file_extension": ".py",
   "mimetype": "text/x-python",
   "name": "python",
   "nbconvert_exporter": "python",
   "pygments_lexer": "ipython3",
   "version": "3.13.2"
  }
 },
 "nbformat": 4,
 "nbformat_minor": 5
}
